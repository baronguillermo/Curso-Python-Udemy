{
 "cells": [
  {
   "cell_type": "code",
   "execution_count": 195,
   "metadata": {},
   "outputs": [],
   "source": [
    "import pandas as pd\n",
    "import numpy as np\n",
    "import math\n",
    "SFC_DESEM_URL = \"https://www.superfinanciera.gov.co/descargas?com=institucional&name=pubFile1013884&downloadname=desembol_bco.xls\"\n"
   ]
  },
  {
   "cell_type": "code",
   "execution_count": 196,
   "metadata": {},
   "outputs": [
    {
     "data": {
      "text/plain": [
       "dtype('O')"
      ]
     },
     "execution_count": 196,
     "metadata": {},
     "output_type": "execute_result"
    }
   ],
   "source": [
    "SFC_DESEM_DATA = pd.read_excel(SFC_DESEM_URL,\"Bancos\",header=None)\n",
    "SFC_DESEM_DATA[5].dtype"
   ]
  },
  {
   "cell_type": "code",
   "execution_count": 228,
   "metadata": {},
   "outputs": [
    {
     "name": "stdout",
     "output_type": "stream",
     "text": [
      "nan\n",
      "CREDITO DE CONSUMO\n",
      "nan\n",
      "MICROCREDITO\n",
      "nan\n",
      "CREDITO ORDINARIO\n",
      "nan\n",
      "CREDITO PREFERENCIAL\n",
      "nan\n",
      "CREDITO DE TESORERIA\n",
      "nan\n",
      "TARJETAS DE CREDITO\n",
      "nan\n",
      "SOBREGIROS BANCARIOS\n",
      "nan\n",
      "FECHA\n"
     ]
    },
    {
     "ename": "AttributeError",
     "evalue": "'dict' object has no attribute 'append'",
     "output_type": "error",
     "traceback": [
      "\u001b[0;31m---------------------------------------------------------------------------\u001b[0m",
      "\u001b[0;31mAttributeError\u001b[0m                            Traceback (most recent call last)",
      "\u001b[0;32m<ipython-input-228-242602162053>\u001b[0m in \u001b[0;36m<module>\u001b[0;34m()\u001b[0m\n\u001b[1;32m     16\u001b[0m         \u001b[0;32mfor\u001b[0m \u001b[0mrow\u001b[0m \u001b[0;32min\u001b[0m \u001b[0mSFC_DESEM_DATA\u001b[0m\u001b[0;34m.\u001b[0m\u001b[0mcolumns\u001b[0m\u001b[0;34m.\u001b[0m\u001b[0mvalues\u001b[0m\u001b[0;34m:\u001b[0m\u001b[0;34m\u001b[0m\u001b[0m\n\u001b[1;32m     17\u001b[0m             \u001b[0mprint\u001b[0m\u001b[0;34m(\u001b[0m\u001b[0mSFC_DESEM_DATA\u001b[0m\u001b[0;34m[\u001b[0m\u001b[0mrow\u001b[0m\u001b[0;34m]\u001b[0m\u001b[0;34m[\u001b[0m\u001b[0mindice_fila\u001b[0m\u001b[0;34m]\u001b[0m\u001b[0;34m)\u001b[0m\u001b[0;34m\u001b[0m\u001b[0m\n\u001b[0;32m---> 18\u001b[0;31m             \u001b[0mmain_modali\u001b[0m\u001b[0;34m.\u001b[0m\u001b[0mappend\u001b[0m\u001b[0;34m(\u001b[0m\u001b[0mfila\u001b[0m\u001b[0;34m)\u001b[0m\u001b[0;34m\u001b[0m\u001b[0m\n\u001b[0m\u001b[1;32m     19\u001b[0m             \u001b[0mcounter1\u001b[0m\u001b[0;34m+=\u001b[0m\u001b[0;36m1\u001b[0m\u001b[0;34m\u001b[0m\u001b[0m\n",
      "\u001b[0;31mAttributeError\u001b[0m: 'dict' object has no attribute 'append'"
     ]
    }
   ],
   "source": [
    "main_bancos = {}\n",
    "main_modali = {}\n",
    "counter = 0\n",
    "for indice_fila, fila in SFC_DESEM_DATA.iterrows():\n",
    "    if SFC_DESEM_DATA[0][indice_fila]==\"DESEMBOLSOS POR MODALIDAD DE CREDITO\":\n",
    "        main_bancos[counter] = SFC_DESEM_DATA[0][indice_fila+1]\n",
    "        counter+=1\n",
    "    if SFC_DESEM_DATA[1][indice_fila]==\"CREDITO DE CONSUMO\" and counter-1==0:\n",
    "        counter1=0\n",
    "        for row in SFC_DESEM_DATA.columns.values:\n",
    "            print(SFC_DESEM_DATA[row][indice_fila])\n",
    "            main_modali[counter1] = SFC_DESEM_DATA[row][indice_fila]\n",
    "            counter1+=1\n"
   ]
  },
  {
   "cell_type": "code",
   "execution_count": 225,
   "metadata": {},
   "outputs": [
    {
     "data": {
      "text/plain": [
       "{0: nan,\n",
       " 1: 'CREDITO DE CONSUMO',\n",
       " 2: nan,\n",
       " 3: 'MICROCREDITO',\n",
       " 4: nan,\n",
       " 5: 'CREDITO ORDINARIO',\n",
       " 6: nan,\n",
       " 7: 'CREDITO PREFERENCIAL',\n",
       " 8: nan,\n",
       " 9: 'CREDITO DE TESORERIA',\n",
       " 10: nan,\n",
       " 11: 'TARJETAS DE CREDITO',\n",
       " 12: nan,\n",
       " 13: 'SOBREGIROS BANCARIOS',\n",
       " 14: nan}"
      ]
     },
     "execution_count": 225,
     "metadata": {},
     "output_type": "execute_result"
    }
   ],
   "source": [
    "main_bancos\n",
    "main_modali"
   ]
  },
  {
   "cell_type": "code",
   "execution_count": null,
   "metadata": {},
   "outputs": [],
   "source": []
  },
  {
   "cell_type": "code",
   "execution_count": null,
   "metadata": {},
   "outputs": [],
   "source": []
  },
  {
   "cell_type": "code",
   "execution_count": null,
   "metadata": {},
   "outputs": [],
   "source": []
  },
  {
   "cell_type": "code",
   "execution_count": null,
   "metadata": {},
   "outputs": [],
   "source": []
  }
 ],
 "metadata": {
  "kernelspec": {
   "display_name": "Python 3",
   "language": "python",
   "name": "python3"
  },
  "language_info": {
   "codemirror_mode": {
    "name": "ipython",
    "version": 3
   },
   "file_extension": ".py",
   "mimetype": "text/x-python",
   "name": "python",
   "nbconvert_exporter": "python",
   "pygments_lexer": "ipython3",
   "version": "3.6.4"
  }
 },
 "nbformat": 4,
 "nbformat_minor": 2
}
