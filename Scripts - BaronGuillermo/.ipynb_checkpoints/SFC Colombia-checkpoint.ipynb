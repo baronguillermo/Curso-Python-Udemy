{
 "cells": [
  {
   "cell_type": "code",
   "execution_count": 165,
   "metadata": {},
   "outputs": [],
   "source": [
    "import pandas as pd\n",
    "import numpy as np\n",
    "import math\n",
    "SFC_DESEM_URL = \"https://www.superfinanciera.gov.co/descargas?com=institucional&name=pubFile1013884&downloadname=desembol_bco.xls\"\n"
   ]
  },
  {
   "cell_type": "code",
   "execution_count": 186,
   "metadata": {},
   "outputs": [
    {
     "data": {
      "text/plain": [
       "dtype('O')"
      ]
     },
     "execution_count": 186,
     "metadata": {},
     "output_type": "execute_result"
    }
   ],
   "source": [
    "SFC_DESEM_DATA = pd.read_excel(SFC_DESEM_URL,\"Bancos\",header=None)\n",
    "SFC_DESEM_DATA[5].dtype"
   ]
  },
  {
   "cell_type": "code",
   "execution_count": 182,
   "metadata": {},
   "outputs": [
    {
     "name": "stdout",
     "output_type": "stream",
     "text": [
      "nan\n",
      "CREDITO DE CONSUMO\n",
      "nan\n",
      "MICROCREDITO\n",
      "nan\n",
      "CREDITO ORDINARIO\n",
      "nan\n",
      "CREDITO PREFERENCIAL\n",
      "nan\n",
      "CREDITO DE TESORERIA\n",
      "nan\n",
      "TARJETAS DE CREDITO\n",
      "nan\n",
      "SOBREGIROS BANCARIOS\n",
      "nan\n"
     ]
    }
   ],
   "source": [
    "main_bancos = {}\n",
    "main_modali = {}\n",
    "counter = 0\n",
    "for indice_fila, fila in SFC_DESEM_DATA.iterrows():\n",
    "    if SFC_DESEM_DATA[0][indice_fila]==\"DESEMBOLSOS POR MODALIDAD DE CREDITO\":\n",
    "        main_bancos[counter] = SFC_DESEM_DATA[0][indice_fila+1]\n",
    "        counter+=1\n",
    "    if SFC_DESEM_DATA[1][indice_fila]==\"CREDITO DE CONSUMO\" and counter-1==0:\n",
    "        for row in SFC_DESEM_DATA.columns.values:\n",
    "            print(SFC_DESEM_DATA[row][indice_fila])\n",
    "            main_modali[counter1] = SFC_DESEM_DATA[row][indice_fila]\n"
   ]
  },
  {
   "cell_type": "code",
   "execution_count": null,
   "metadata": {},
   "outputs": [],
   "source": [
    "main_bancos"
   ]
  },
  {
   "cell_type": "code",
   "execution_count": 173,
   "metadata": {},
   "outputs": [
    {
     "data": {
      "text/plain": [
       "{}"
      ]
     },
     "execution_count": 173,
     "metadata": {},
     "output_type": "execute_result"
    }
   ],
   "source": [
    "main_modali"
   ]
  },
  {
   "cell_type": "code",
   "execution_count": null,
   "metadata": {},
   "outputs": [],
   "source": []
  },
  {
   "cell_type": "code",
   "execution_count": null,
   "metadata": {},
   "outputs": [],
   "source": []
  },
  {
   "cell_type": "code",
   "execution_count": null,
   "metadata": {},
   "outputs": [],
   "source": []
  }
 ],
 "metadata": {
  "kernelspec": {
   "display_name": "Python 3",
   "language": "python",
   "name": "python3"
  },
  "language_info": {
   "codemirror_mode": {
    "name": "ipython",
    "version": 3
   },
   "file_extension": ".py",
   "mimetype": "text/x-python",
   "name": "python",
   "nbconvert_exporter": "python",
   "pygments_lexer": "ipython3",
   "version": "3.6.4"
  }
 },
 "nbformat": 4,
 "nbformat_minor": 2
}
