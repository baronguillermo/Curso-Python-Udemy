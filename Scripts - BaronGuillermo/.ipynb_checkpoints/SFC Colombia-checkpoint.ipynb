{
 "cells": [
  {
   "cell_type": "code",
   "execution_count": 195,
   "metadata": {},
   "outputs": [],
   "source": [
    "import pandas as pd\n",
    "import numpy as np\n",
    "import math\n",
    "SFC_DESEM_URL = \"https://www.superfinanciera.gov.co/descargas?com=institucional&name=pubFile1013884&downloadname=desembol_bco.xls\"\n"
   ]
  },
  {
   "cell_type": "code",
   "execution_count": 257,
   "metadata": {},
   "outputs": [],
   "source": [
    "SFC_DESEM_DATA = pd.read_excel(SFC_DESEM_URL,\"Bancos\",header=None)\n"
   ]
  },
  {
   "cell_type": "code",
   "execution_count": 259,
   "metadata": {},
   "outputs": [],
   "source": [
    "main_bancos = {}\n",
    "main_modali = {}\n",
    "titulos = [1,3,5,7,9,11,13]\n",
    "counter = 0\n",
    "for indice_fila, fila in SFC_DESEM_DATA.iterrows():\n",
    "    if SFC_DESEM_DATA[0][indice_fila]==\"DESEMBOLSOS POR MODALIDAD DE CREDITO\":\n",
    "        main_bancos[counter] = SFC_DESEM_DATA[0][indice_fila+1]\n",
    "        counter+=1\n",
    "    if SFC_DESEM_DATA[1][indice_fila]==\"CREDITO DE CONSUMO\" and counter-1==0:\n",
    "        counter1=0\n",
    "        #for row in SFC_DESEM_DATA.columns.values:\n",
    "        for row in titulos:\n",
    "            main_modali[counter1] = SFC_DESEM_DATA[row][indice_fila]\n",
    "            counter1+=1"
   ]
  },
  {
   "cell_type": "code",
   "execution_count": 260,
   "metadata": {},
   "outputs": [
    {
     "data": {
      "text/plain": [
       "{0: 'CREDITO DE CONSUMO',\n",
       " 1: 'MICROCREDITO',\n",
       " 2: 'CREDITO ORDINARIO',\n",
       " 3: 'CREDITO PREFERENCIAL',\n",
       " 4: 'CREDITO DE TESORERIA',\n",
       " 5: 'TARJETAS DE CREDITO',\n",
       " 6: 'SOBREGIROS BANCARIOS'}"
      ]
     },
     "execution_count": 260,
     "metadata": {},
     "output_type": "execute_result"
    }
   ],
   "source": []
  },
  {
   "cell_type": "code",
   "execution_count": null,
   "metadata": {},
   "outputs": [],
   "source": []
  },
  {
   "cell_type": "code",
   "execution_count": null,
   "metadata": {},
   "outputs": [],
   "source": []
  },
  {
   "cell_type": "code",
   "execution_count": null,
   "metadata": {},
   "outputs": [],
   "source": []
  },
  {
   "cell_type": "code",
   "execution_count": null,
   "metadata": {},
   "outputs": [],
   "source": []
  }
 ],
 "metadata": {
  "kernelspec": {
   "display_name": "Python 3",
   "language": "python",
   "name": "python3"
  },
  "language_info": {
   "codemirror_mode": {
    "name": "ipython",
    "version": 3
   },
   "file_extension": ".py",
   "mimetype": "text/x-python",
   "name": "python",
   "nbconvert_exporter": "python",
   "pygments_lexer": "ipython3",
   "version": "3.6.4"
  }
 },
 "nbformat": 4,
 "nbformat_minor": 2
}
